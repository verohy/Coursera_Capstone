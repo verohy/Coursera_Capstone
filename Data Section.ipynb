{
    "cells": [
        {
            "cell_type": "markdown",
            "metadata": {},
            "source": "# Data Section"
        },
        {
            "cell_type": "markdown",
            "metadata": {},
            "source": "## Data, Packages and Tools"
        },
        {
            "cell_type": "markdown",
            "metadata": {},
            "source": "The data used is the names of the hospitals, their locations, ratings and capacity, measured by number of beds. It comes principally from the following sources:\n\n1. Canada 2016 Census, for selecting the most populated cities\n2. Canadian Institute for Health Information (CIHI) for the number of beds per hospital\n3. Forthsquare for hospitals location and rating\n4. Several python packages for managing and showing data, as pandas, folium and geopy. \n5. IBM Cloud Pak is the tool for running the code"
        }
    ],
    "metadata": {
        "kernelspec": {
            "display_name": "Python 3.7",
            "language": "python",
            "name": "python3"
        },
        "language_info": {
            "codemirror_mode": {
                "name": "ipython",
                "version": 3
            },
            "file_extension": ".py",
            "mimetype": "text/x-python",
            "name": "python",
            "nbconvert_exporter": "python",
            "pygments_lexer": "ipython3",
            "version": "3.7.9"
        }
    },
    "nbformat": 4,
    "nbformat_minor": 1
}