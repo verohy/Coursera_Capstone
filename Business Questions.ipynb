{
    "cells": [
        {
            "cell_type": "markdown",
            "metadata": {
                "collapsed": true
            },
            "source": "# Business Question: Showing Citizens Hospitals Distribution along Canada's Mayors Cities and their Neighborhoods"
        },
        {
            "cell_type": "markdown",
            "metadata": {},
            "source": "## Introduction"
        },
        {
            "cell_type": "markdown",
            "metadata": {},
            "source": "The project: \"Showing Citizens Hospitals Distribution along Canada's Mayors Cities and their Neighborhoods\" aims to be a friendly way to inform people where hospitals are across the three most populated cities of Canada according to the national Census of 2016: Toronto (Ontario), Montreal (Quebec) and Calgary (Alberta). The rate of the institutions will be shown if available.\n\nThe present document represents the Final Project for the IBM Data Science Certificate taught through Coursera Platform. It is requiered to used \"Forsquare\", an independent location data platform for understanding how people move through the real world, according to them."
        },
        {
            "cell_type": "markdown",
            "metadata": {},
            "source": "## Business Problem"
        },
        {
            "cell_type": "markdown",
            "metadata": {},
            "source": "The purpose of the project is to inform and empower regular citizens in a simple and graphical way so they can see how Hospitals are located across cities and neighborhoods. In case of the proximity of a health care center being a variable influencing the decisions on where to live, especially focusing on fragile population, this study may facilitate an informed decision of the user."
        }
    ],
    "metadata": {
        "kernelspec": {
            "display_name": "Python 3.7",
            "language": "python",
            "name": "python3"
        },
        "language_info": {
            "codemirror_mode": {
                "name": "ipython",
                "version": 3
            },
            "file_extension": ".py",
            "mimetype": "text/x-python",
            "name": "python",
            "nbconvert_exporter": "python",
            "pygments_lexer": "ipython3",
            "version": "3.7.9"
        }
    },
    "nbformat": 4,
    "nbformat_minor": 1
}